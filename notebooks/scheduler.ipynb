{
 "cells": [
  {
   "cell_type": "code",
   "execution_count": 3,
   "metadata": {},
   "outputs": [],
   "source": [
    "from datetime import datetime as dt"
   ]
  },
  {
   "cell_type": "code",
   "execution_count": 12,
   "metadata": {},
   "outputs": [
    {
     "name": "stdout",
     "output_type": "stream",
     "text": [
      "my_func executed\n",
      "my_func executed\n",
      "my_func executed\n",
      "my_func executed\n",
      "my_func executed\n",
      "my_func executed\n",
      "my_func executed\n",
      "my_func executed\n",
      "my_func executed\n",
      "my_func executed\n",
      "my_func executed\n",
      "my_func executed\n",
      "my_func executed\n"
     ]
    },
    {
     "ename": "KeyboardInterrupt",
     "evalue": "",
     "output_type": "error",
     "traceback": [
      "\u001b[0;31m---------------------------------------------------------------------------\u001b[0m",
      "\u001b[0;31mKeyboardInterrupt\u001b[0m                         Traceback (most recent call last)",
      "Cell \u001b[0;32mIn[12], line 22\u001b[0m\n\u001b[1;32m     20\u001b[0m \u001b[38;5;66;03m# Main thread can continue with other tasks or sleep indefinitely\u001b[39;00m\n\u001b[1;32m     21\u001b[0m \u001b[38;5;28;01mwhile\u001b[39;00m \u001b[38;5;28;01mTrue\u001b[39;00m:\n\u001b[0;32m---> 22\u001b[0m     \u001b[43mtime\u001b[49m\u001b[38;5;241;43m.\u001b[39;49m\u001b[43msleep\u001b[49m\u001b[43m(\u001b[49m\u001b[38;5;241;43m1\u001b[39;49m\u001b[43m)\u001b[49m\n",
      "\u001b[0;31mKeyboardInterrupt\u001b[0m: "
     ]
    },
    {
     "name": "stdout",
     "output_type": "stream",
     "text": [
      "my_func executed\n",
      "my_func executed\n"
     ]
    }
   ],
   "source": [
    "import datetime\n",
    "import time\n",
    "import threading\n",
    "\n",
    "def my_func():\n",
    "    print(\"my_func executed\")\n",
    "\n",
    "def daemon_thread():\n",
    "    while True:\n",
    "        current_time = datetime.datetime.now()\n",
    "        # if current_time.hour == 12 and current_time.minute == 0:  # Trigger at 12:00 PM\n",
    "        if current_time.second == 30:\n",
    "            my_func()\n",
    "        time.sleep(1)  # Check every minute\n",
    "\n",
    "# Create and start the daemon thread\n",
    "daemon_thread_instance = threading.Thread(target=daemon_thread, daemon=True)\n",
    "daemon_thread_instance.start()\n",
    "\n",
    "# Main thread can continue with other tasks or sleep indefinitely\n",
    "while True:\n",
    "    time.sleep(1)"
   ]
  },
  {
   "cell_type": "code",
   "execution_count": 1,
   "metadata": {},
   "outputs": [
    {
     "name": "stderr",
     "output_type": "stream",
     "text": [
      "24/05/15 18:26:37 WARN Utils: Your hostname, codespaces-bc16d1 resolves to a loopback address: 127.0.0.1; using 172.16.5.4 instead (on interface eth0)\n",
      "24/05/15 18:26:37 WARN Utils: Set SPARK_LOCAL_IP if you need to bind to another address\n",
      "Setting default log level to \"WARN\".\n",
      "To adjust logging level use sc.setLogLevel(newLevel). For SparkR, use setLogLevel(newLevel).\n",
      "24/05/15 18:26:38 WARN NativeCodeLoader: Unable to load native-hadoop library for your platform... using builtin-java classes where applicable\n",
      "                                                                                \r"
     ]
    },
    {
     "name": "stdout",
     "output_type": "stream",
     "text": [
      "[Row(id=1, value='a'), Row(id=2, value='b'), Row(id=3, value='c')]\n"
     ]
    },
    {
     "name": "stderr",
     "output_type": "stream",
     "text": [
      "                                                                                \r"
     ]
    },
    {
     "name": "stdout",
     "output_type": "stream",
     "text": [
      "[Row(id=1, value='a'), Row(id=2, value='b'), Row(id=3, value='c')]\n",
      "Cleaning up resources before exiting...\n"
     ]
    },
    {
     "name": "stderr",
     "output_type": "stream",
     "text": [
      "                                                                                \r"
     ]
    },
    {
     "name": "stdout",
     "output_type": "stream",
     "text": [
      "[Row(id=1, value='a'), Row(id=2, value='b'), Row(id=3, value='c')]\n"
     ]
    },
    {
     "ename": "AttributeError",
     "evalue": "'NoneType' object has no attribute 'sc'",
     "output_type": "error",
     "traceback": [
      "\u001b[0;31m---------------------------------------------------------------------------\u001b[0m",
      "\u001b[0;31mAttributeError\u001b[0m                            Traceback (most recent call last)",
      "Cell \u001b[0;32mIn[1], line 46\u001b[0m\n\u001b[1;32m     44\u001b[0m \u001b[38;5;66;03m# Main thread can continue with other tasks or sleep indefinitely\u001b[39;00m\n\u001b[1;32m     45\u001b[0m \u001b[38;5;28;01mwhile\u001b[39;00m \u001b[38;5;28;01mTrue\u001b[39;00m:\n\u001b[0;32m---> 46\u001b[0m     \u001b[43mtime\u001b[49m\u001b[38;5;241;43m.\u001b[39;49m\u001b[43msleep\u001b[49m\u001b[43m(\u001b[49m\u001b[38;5;241;43m1\u001b[39;49m\u001b[43m)\u001b[49m\n",
      "File \u001b[0;32m~/.python/current/lib/python3.10/site-packages/pyspark/context.py:381\u001b[0m, in \u001b[0;36mSparkContext._do_init.<locals>.signal_handler\u001b[0;34m(signal, frame)\u001b[0m\n\u001b[1;32m    380\u001b[0m \u001b[38;5;28;01mdef\u001b[39;00m \u001b[38;5;21msignal_handler\u001b[39m(signal: Any, frame: Any) \u001b[38;5;241m-\u001b[39m\u001b[38;5;241m>\u001b[39m NoReturn:\n\u001b[0;32m--> 381\u001b[0m     \u001b[38;5;28;43mself\u001b[39;49m\u001b[38;5;241;43m.\u001b[39;49m\u001b[43mcancelAllJobs\u001b[49m\u001b[43m(\u001b[49m\u001b[43m)\u001b[49m\n\u001b[1;32m    382\u001b[0m     \u001b[38;5;28;01mraise\u001b[39;00m \u001b[38;5;167;01mKeyboardInterrupt\u001b[39;00m()\n",
      "File \u001b[0;32m~/.python/current/lib/python3.10/site-packages/pyspark/context.py:2446\u001b[0m, in \u001b[0;36mSparkContext.cancelAllJobs\u001b[0;34m(self)\u001b[0m\n\u001b[1;32m   2434\u001b[0m \u001b[38;5;28;01mdef\u001b[39;00m \u001b[38;5;21mcancelAllJobs\u001b[39m(\u001b[38;5;28mself\u001b[39m) \u001b[38;5;241m-\u001b[39m\u001b[38;5;241m>\u001b[39m \u001b[38;5;28;01mNone\u001b[39;00m:\n\u001b[1;32m   2435\u001b[0m \u001b[38;5;250m    \u001b[39m\u001b[38;5;124;03m\"\"\"\u001b[39;00m\n\u001b[1;32m   2436\u001b[0m \u001b[38;5;124;03m    Cancel all jobs that have been scheduled or are running.\u001b[39;00m\n\u001b[1;32m   2437\u001b[0m \n\u001b[0;32m   (...)\u001b[0m\n\u001b[1;32m   2444\u001b[0m \u001b[38;5;124;03m    :meth:`SparkContext.runJob`\u001b[39;00m\n\u001b[1;32m   2445\u001b[0m \u001b[38;5;124;03m    \"\"\"\u001b[39;00m\n\u001b[0;32m-> 2446\u001b[0m     \u001b[38;5;28;43mself\u001b[39;49m\u001b[38;5;241;43m.\u001b[39;49m\u001b[43m_jsc\u001b[49m\u001b[38;5;241;43m.\u001b[39;49m\u001b[43msc\u001b[49m()\u001b[38;5;241m.\u001b[39mcancelAllJobs()\n",
      "\u001b[0;31mAttributeError\u001b[0m: 'NoneType' object has no attribute 'sc'"
     ]
    },
    {
     "ename": "",
     "evalue": "",
     "output_type": "error",
     "traceback": [
      "\u001b[1;31mThe Kernel crashed while executing code in the current cell or a previous cell. \n",
      "\u001b[1;31mPlease review the code in the cell(s) to identify a possible cause of the failure. \n",
      "\u001b[1;31mClick <a href='https://aka.ms/vscodeJupyterKernelCrash'>here</a> for more info. \n",
      "\u001b[1;31mView Jupyter <a href='command:jupyter.viewOutput'>log</a> for further details."
     ]
    }
   ],
   "source": [
    "import datetime\n",
    "import time\n",
    "import threading\n",
    "import signal\n",
    "from pyspark.sql import SparkSession\n",
    "\n",
    "def cleanup_spark(spark):\n",
    "    spark.stop()\n",
    "\n",
    "def my_func():\n",
    "    spark = SparkSession.builder.appName(\"myApp\").getOrCreate()\n",
    "    \n",
    "    try:\n",
    "        # Use the SparkSession for your operations\n",
    "        data = spark.createDataFrame([(1, \"a\"), (2, \"b\"), (3, \"c\")], [\"id\", \"value\"])\n",
    "        result = data.collect()\n",
    "        print(result)\n",
    "    finally:\n",
    "        cleanup_spark(spark)\n",
    "\n",
    "def daemon_thread():\n",
    "    while True:\n",
    "        current_time = datetime.datetime.now()\n",
    "        if current_time.second == 30:  # Trigger at 13:30 (1:30 PM)\n",
    "            my_func()\n",
    "        time.sleep(1)  # Check every minute\n",
    "\n",
    "def signal_handler(sig, frame):\n",
    "    print(\"Cleaning up resources before exiting...\")\n",
    "    # Add cleanup logic here if needed\n",
    "    # For PySpark, you can stop the SparkSession\n",
    "    cleanup_spark(SparkSession.builder.getOrCreate())\n",
    "    exit(0)\n",
    "\n",
    "# Register the signal handler for termination signals\n",
    "signal.signal(signal.SIGINT, signal_handler)\n",
    "signal.signal(signal.SIGTERM, signal_handler)\n",
    "\n",
    "# Create and start the daemon thread\n",
    "daemon_thread_instance = threading.Thread(target=daemon_thread)\n",
    "daemon_thread_instance.daemon = True\n",
    "daemon_thread_instance.start()\n",
    "\n",
    "# Main thread can continue with other tasks or sleep indefinitely\n",
    "while True:\n",
    "    time.sleep(1)"
   ]
  },
  {
   "cell_type": "code",
   "execution_count": null,
   "metadata": {},
   "outputs": [],
   "source": []
  }
 ],
 "metadata": {
  "kernelspec": {
   "display_name": "Python 3",
   "language": "python",
   "name": "python3"
  },
  "language_info": {
   "codemirror_mode": {
    "name": "ipython",
    "version": 3
   },
   "file_extension": ".py",
   "mimetype": "text/x-python",
   "name": "python",
   "nbconvert_exporter": "python",
   "pygments_lexer": "ipython3",
   "version": "3.10.13"
  }
 },
 "nbformat": 4,
 "nbformat_minor": 2
}
